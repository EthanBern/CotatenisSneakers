{
 "cells": [
  {
   "cell_type": "markdown",
   "id": "c1aea02d",
   "metadata": {},
   "source": [
    "COLLECTING THE DATA FOR COTATENIS SNEAKERS"
   ]
  },
  {
   "cell_type": "code",
   "execution_count": 41,
   "id": "611e556e",
   "metadata": {},
   "outputs": [],
   "source": [
    "import pandas as pd \n",
    "import numpy as np\n",
    "from matplotlib import pyplot as plt\n",
    "import seaborn as sns"
   ]
  },
  {
   "cell_type": "code",
   "execution_count": 42,
   "id": "810f063c",
   "metadata": {},
   "outputs": [],
   "source": [
    "dataset=pd.read_csv(\"cotatenis_sneakers_kaggle.csv\")"
   ]
  },
  {
   "cell_type": "code",
   "execution_count": 43,
   "id": "0b0c1591",
   "metadata": {},
   "outputs": [
    {
     "data": {
      "text/html": [
       "<div>\n",
       "<style scoped>\n",
       "    .dataframe tbody tr th:only-of-type {\n",
       "        vertical-align: middle;\n",
       "    }\n",
       "\n",
       "    .dataframe tbody tr th {\n",
       "        vertical-align: top;\n",
       "    }\n",
       "\n",
       "    .dataframe thead th {\n",
       "        text-align: right;\n",
       "    }\n",
       "</style>\n",
       "<table border=\"1\" class=\"dataframe\">\n",
       "  <thead>\n",
       "    <tr style=\"text-align: right;\">\n",
       "      <th></th>\n",
       "      <th>sku</th>\n",
       "      <th>product_name</th>\n",
       "      <th>brand</th>\n",
       "    </tr>\n",
       "  </thead>\n",
       "  <tbody>\n",
       "    <tr>\n",
       "      <th>0</th>\n",
       "      <td>GZ7945</td>\n",
       "      <td>Tênis Masculino NMDR1 - Cinza</td>\n",
       "      <td>adidas</td>\n",
       "    </tr>\n",
       "    <tr>\n",
       "      <th>1</th>\n",
       "      <td>GY5028</td>\n",
       "      <td>Tênis Masculino Outrage - Preto</td>\n",
       "      <td>adidas</td>\n",
       "    </tr>\n",
       "    <tr>\n",
       "      <th>2</th>\n",
       "      <td>GZ7925</td>\n",
       "      <td>Tênis Masculino Nmdr1 Refined - Branco</td>\n",
       "      <td>adidas</td>\n",
       "    </tr>\n",
       "    <tr>\n",
       "      <th>3</th>\n",
       "      <td>EF4400</td>\n",
       "      <td>Tênis Masculino Marathon Tech - Vinho</td>\n",
       "      <td>adidas</td>\n",
       "    </tr>\n",
       "    <tr>\n",
       "      <th>4</th>\n",
       "      <td>Q47100</td>\n",
       "      <td>Tênis Masculino Mixing Eras - Preto</td>\n",
       "      <td>adidas</td>\n",
       "    </tr>\n",
       "  </tbody>\n",
       "</table>\n",
       "</div>"
      ],
      "text/plain": [
       "      sku                            product_name   brand\n",
       "0  GZ7945           Tênis Masculino NMDR1 - Cinza  adidas\n",
       "1  GY5028         Tênis Masculino Outrage - Preto  adidas\n",
       "2  GZ7925  Tênis Masculino Nmdr1 Refined - Branco  adidas\n",
       "3  EF4400   Tênis Masculino Marathon Tech - Vinho  adidas\n",
       "4  Q47100     Tênis Masculino Mixing Eras - Preto  adidas"
      ]
     },
     "execution_count": 43,
     "metadata": {},
     "output_type": "execute_result"
    }
   ],
   "source": [
    "dataset.head()"
   ]
  },
  {
   "cell_type": "markdown",
   "id": "3f7fe77f",
   "metadata": {},
   "source": [
    "NOW WE GOING TO CALCULATE HOW MUCH OF EACH TYPE OF SNEAKER THERE IS IN THE DATASET. "
   ]
  },
  {
   "cell_type": "code",
   "execution_count": 44,
   "id": "10883eba",
   "metadata": {},
   "outputs": [
    {
     "data": {
      "text/plain": [
       "(3406, 3)"
      ]
     },
     "execution_count": 44,
     "metadata": {},
     "output_type": "execute_result"
    }
   ],
   "source": [
    "dataset.shape"
   ]
  },
  {
   "cell_type": "code",
   "execution_count": 45,
   "id": "eaac6d74",
   "metadata": {},
   "outputs": [
    {
     "data": {
      "text/plain": [
       "<bound method NDFrame.head of          sku                                 product_name   brand\n",
       "0     GZ7945                Tênis Masculino NMDR1 - Cinza  adidas\n",
       "1     GY5028              Tênis Masculino Outrage - Preto  adidas\n",
       "2     GZ7925       Tênis Masculino Nmdr1 Refined - Branco  adidas\n",
       "3     EF4400        Tênis Masculino Marathon Tech - Vinho  adidas\n",
       "4     Q47100          Tênis Masculino Mixing Eras - Preto  adidas\n",
       "...      ...                                          ...     ...\n",
       "3401  EG4126            Tênis Infantil adidas Tensaur Run  adidas\n",
       "3402  FY8183  Tênis adidas Lite Racer Rbn 2.0 - Masculino  adidas\n",
       "3403  EH1425      Tênis adidas Lite Racer 2.0 - Masculino  adidas\n",
       "3404  H69201  Tênis adidas Defiant Generation - Masculino  adidas\n",
       "3405  GZ8185         Tênis adidas Racer TR 21 - Masculino  adidas\n",
       "\n",
       "[3406 rows x 3 columns]>"
      ]
     },
     "execution_count": 45,
     "metadata": {},
     "output_type": "execute_result"
    }
   ],
   "source": [
    "dataset.head"
   ]
  },
  {
   "cell_type": "code",
   "execution_count": 46,
   "id": "e9445222",
   "metadata": {},
   "outputs": [
    {
     "data": {
      "text/html": [
       "<div>\n",
       "<style scoped>\n",
       "    .dataframe tbody tr th:only-of-type {\n",
       "        vertical-align: middle;\n",
       "    }\n",
       "\n",
       "    .dataframe tbody tr th {\n",
       "        vertical-align: top;\n",
       "    }\n",
       "\n",
       "    .dataframe thead th {\n",
       "        text-align: right;\n",
       "    }\n",
       "</style>\n",
       "<table border=\"1\" class=\"dataframe\">\n",
       "  <thead>\n",
       "    <tr style=\"text-align: right;\">\n",
       "      <th></th>\n",
       "      <th>sku</th>\n",
       "      <th>product_name</th>\n",
       "      <th>brand</th>\n",
       "    </tr>\n",
       "  </thead>\n",
       "  <tbody>\n",
       "    <tr>\n",
       "      <th>count</th>\n",
       "      <td>3406</td>\n",
       "      <td>3406</td>\n",
       "      <td>3406</td>\n",
       "    </tr>\n",
       "    <tr>\n",
       "      <th>unique</th>\n",
       "      <td>3406</td>\n",
       "      <td>1840</td>\n",
       "      <td>3</td>\n",
       "    </tr>\n",
       "    <tr>\n",
       "      <th>top</th>\n",
       "      <td>GZ7945</td>\n",
       "      <td>Tênis Nike Air Max 90 Feminino</td>\n",
       "      <td>Nike</td>\n",
       "    </tr>\n",
       "    <tr>\n",
       "      <th>freq</th>\n",
       "      <td>1</td>\n",
       "      <td>33</td>\n",
       "      <td>1936</td>\n",
       "    </tr>\n",
       "  </tbody>\n",
       "</table>\n",
       "</div>"
      ],
      "text/plain": [
       "           sku                    product_name brand\n",
       "count     3406                            3406  3406\n",
       "unique    3406                            1840     3\n",
       "top     GZ7945  Tênis Nike Air Max 90 Feminino  Nike\n",
       "freq         1                              33  1936"
      ]
     },
     "execution_count": 46,
     "metadata": {},
     "output_type": "execute_result"
    }
   ],
   "source": [
    "dataset.describe()"
   ]
  },
  {
   "cell_type": "code",
   "execution_count": 47,
   "id": "6711ebc0",
   "metadata": {},
   "outputs": [],
   "source": [
    "%matplotlib inline"
   ]
  },
  {
   "cell_type": "code",
   "execution_count": 55,
   "id": "6a15f571",
   "metadata": {},
   "outputs": [],
   "source": [
    "import seaborn as sns"
   ]
  },
  {
   "cell_type": "code",
   "execution_count": 68,
   "id": "16004c5d",
   "metadata": {},
   "outputs": [
    {
     "data": {
      "image/png": "[encoded data removed]",
      "text/plain": [
       "<Figure size 180x180 with 2 Axes>"
      ]
     },
     "metadata": {
      "needs_background": "light"
     },
     "output_type": "display_data"
    }
   ],
   "source": [
    "sns.pairplot(dataset,vars=['brand'],kind='reg')\n",
    "plt.show()"
   ]
  },
  {
   "cell_type": "code",
   "execution_count": 100,
   "id": "5d46cbfc",
   "metadata": {},
   "outputs": [],
   "source": [
    "x=dataset[['brand','product_name']]"
   ]
  },
  {
   "cell_type": "code",
   "execution_count": 101,
   "id": "31f76161",
   "metadata": {},
   "outputs": [
    {
     "data": {
      "text/html": [
       "<div>\n",
       "<style scoped>\n",
       "    .dataframe tbody tr th:only-of-type {\n",
       "        vertical-align: middle;\n",
       "    }\n",
       "\n",
       "    .dataframe tbody tr th {\n",
       "        vertical-align: top;\n",
       "    }\n",
       "\n",
       "    .dataframe thead th {\n",
       "        text-align: right;\n",
       "    }\n",
       "</style>\n",
       "<table border=\"1\" class=\"dataframe\">\n",
       "  <thead>\n",
       "    <tr style=\"text-align: right;\">\n",
       "      <th></th>\n",
       "      <th>brand</th>\n",
       "      <th>product_name</th>\n",
       "    </tr>\n",
       "  </thead>\n",
       "  <tbody>\n",
       "    <tr>\n",
       "      <th>0</th>\n",
       "      <td>adidas</td>\n",
       "      <td>Tênis Masculino NMDR1 - Cinza</td>\n",
       "    </tr>\n",
       "    <tr>\n",
       "      <th>1</th>\n",
       "      <td>adidas</td>\n",
       "      <td>Tênis Masculino Outrage - Preto</td>\n",
       "    </tr>\n",
       "    <tr>\n",
       "      <th>2</th>\n",
       "      <td>adidas</td>\n",
       "      <td>Tênis Masculino Nmdr1 Refined - Branco</td>\n",
       "    </tr>\n",
       "    <tr>\n",
       "      <th>3</th>\n",
       "      <td>adidas</td>\n",
       "      <td>Tênis Masculino Marathon Tech - Vinho</td>\n",
       "    </tr>\n",
       "    <tr>\n",
       "      <th>4</th>\n",
       "      <td>adidas</td>\n",
       "      <td>Tênis Masculino Mixing Eras - Preto</td>\n",
       "    </tr>\n",
       "    <tr>\n",
       "      <th>...</th>\n",
       "      <td>...</td>\n",
       "      <td>...</td>\n",
       "    </tr>\n",
       "    <tr>\n",
       "      <th>3401</th>\n",
       "      <td>adidas</td>\n",
       "      <td>Tênis Infantil adidas Tensaur Run</td>\n",
       "    </tr>\n",
       "    <tr>\n",
       "      <th>3402</th>\n",
       "      <td>adidas</td>\n",
       "      <td>Tênis adidas Lite Racer Rbn 2.0 - Masculino</td>\n",
       "    </tr>\n",
       "    <tr>\n",
       "      <th>3403</th>\n",
       "      <td>adidas</td>\n",
       "      <td>Tênis adidas Lite Racer 2.0 - Masculino</td>\n",
       "    </tr>\n",
       "    <tr>\n",
       "      <th>3404</th>\n",
       "      <td>adidas</td>\n",
       "      <td>Tênis adidas Defiant Generation - Masculino</td>\n",
       "    </tr>\n",
       "    <tr>\n",
       "      <th>3405</th>\n",
       "      <td>adidas</td>\n",
       "      <td>Tênis adidas Racer TR 21 - Masculino</td>\n",
       "    </tr>\n",
       "  </tbody>\n",
       "</table>\n",
       "<p>3406 rows × 2 columns</p>\n",
       "</div>"
      ],
      "text/plain": [
       "       brand                                 product_name\n",
       "0     adidas                Tênis Masculino NMDR1 - Cinza\n",
       "1     adidas              Tênis Masculino Outrage - Preto\n",
       "2     adidas       Tênis Masculino Nmdr1 Refined - Branco\n",
       "3     adidas        Tênis Masculino Marathon Tech - Vinho\n",
       "4     adidas          Tênis Masculino Mixing Eras - Preto\n",
       "...      ...                                          ...\n",
       "3401  adidas            Tênis Infantil adidas Tensaur Run\n",
       "3402  adidas  Tênis adidas Lite Racer Rbn 2.0 - Masculino\n",
       "3403  adidas      Tênis adidas Lite Racer 2.0 - Masculino\n",
       "3404  adidas  Tênis adidas Defiant Generation - Masculino\n",
       "3405  adidas         Tênis adidas Racer TR 21 - Masculino\n",
       "\n",
       "[3406 rows x 2 columns]"
      ]
     },
     "execution_count": 101,
     "metadata": {},
     "output_type": "execute_result"
    }
   ],
   "source": [
    "x"
   ]
  },
  {
   "cell_type": "code",
   "execution_count": 104,
   "id": "ad12a37c",
   "metadata": {},
   "outputs": [],
   "source": [
    "y=dataset.sku"
   ]
  },
  {
   "cell_type": "code",
   "execution_count": 105,
   "id": "9f94331a",
   "metadata": {},
   "outputs": [
    {
     "data": {
      "text/plain": [
       "0       GZ7945\n",
       "1       GY5028\n",
       "2       GZ7925\n",
       "3       EF4400\n",
       "4       Q47100\n",
       "         ...  \n",
       "3401    EG4126\n",
       "3402    FY8183\n",
       "3403    EH1425\n",
       "3404    H69201\n",
       "3405    GZ8185\n",
       "Name: sku, Length: 3406, dtype: object"
      ]
     },
     "execution_count": 105,
     "metadata": {},
     "output_type": "execute_result"
    }
   ],
   "source": [
    "y"
   ]
  },
  {
   "cell_type": "markdown",
   "id": "1e5fab63",
   "metadata": {},
   "source": [
    "# we can conclude in this analysis that Nikebrand has the most in inventory. As 3406"
   ]
  }
 ],
 "metadata": {
  "kernelspec": {
   "display_name": "Python 3 (ipykernel)",
   "language": "python",
   "name": "python3"
  },
  "language_info": {
   "codemirror_mode": {
    "name": "ipython",
    "version": 3
   },
   "file_extension": ".py",
   "mimetype": "text/x-python",
   "name": "python",
   "nbconvert_exporter": "python",
   "pygments_lexer": "ipython3",
   "version": "3.9.7"
  }
 },
 "nbformat": 4,
 "nbformat_minor": 5
}
